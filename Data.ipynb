{
 "cells": [
  {
   "cell_type": "markdown",
   "metadata": {},
   "source": [
    "# Chapter 10. Neural Data Analysis"
   ]
  },
  {
   "cell_type": "markdown",
   "metadata": {},
   "source": [
    "* Neural databases\n",
    "* Data visualization: raster, PETH, STA\n",
    "* Dimension reduction: PCA, SVD, NMF, GPFA, ICA, CEBRA\n",
    "* Encoding analysis: GLM, DNN\n",
    "* Decoding analysis: GLM, DNN\n",
    "* Time series analysis: GC, TE, CCM, EE\n",
    "* Information theoretic approach: MI, PID"
   ]
  },
  {
   "cell_type": "code",
   "execution_count": null,
   "metadata": {},
   "outputs": [],
   "source": [
    "import numpy as np\n",
    "import matplotlib.pyplot as plt\n",
    "%matplotlib inline\n",
    "from scipy.integrate import odeint, ode"
   ]
  },
  {
   "cell_type": "markdown",
   "metadata": {},
   "source": [
    "## How to make sense of neural big data\n",
    "\n",
    "Technological advances have enabled large-scale data about the structure, activities, and functions of the brain. To utilize such large data sets, utilization of not only classic statistics but also scalable machine learning algorithmss are crucial.\n",
    "But what algorithm should we use? It depends on the purpose of your analysis.\n",
    "\n",
    "**Visualization:** The first step of analysis is usually data visualization to grasp the features of the data. Visuallization can often allows you to realize any problems in your data acquisition, such as noise and missing data.\n",
    "\n",
    "**Categorization:** A typical way of data analysis is to divide them into a number of categories and characterize each of them.\n",
    "\n",
    "**Components:** In some cases, the data may be composed of a number of components. Unsupervised learning algorithms can be used for extracting such components and then we can characterize each component and the weights of components for each neuron, etc.\n",
    "\n",
    "**Correlation and Causality:** We often want to see the relationship between sensory inputs, neural activities, and motor responses. Taking a linear correlation across those variables is a common way. There are also methods for inferring causal direction of relationships across varibles.\n",
    "\n",
    "**Encoding and Decoding:** A single neuron can represent multiple sensory or motor variables. Conversely, a single variables may be represented by a population of neurons. To address many-to-one or many-to-many relationships, multiple regression can be used for information encoding analysis of single neurons and information decoding analysis from a population neuorns.\n",
    "Their relationship may also be highly nonlinear. In such a case, the use of deep neural networks is also an option.\n",
    "\n"
   ]
  },
  {
   "cell_type": "code",
   "execution_count": null,
   "metadata": {},
   "outputs": [],
   "source": []
  },
  {
   "cell_type": "markdown",
   "metadata": {},
   "source": [
    "## Neural databases\n",
    "\n",
    "Large amount of neural data are now freely available online."
   ]
  },
  {
   "cell_type": "code",
   "execution_count": null,
   "metadata": {},
   "outputs": [],
   "source": []
  },
  {
   "cell_type": "markdown",
   "metadata": {},
   "source": [
    "## Data visualization"
   ]
  },
  {
   "cell_type": "markdown",
   "metadata": {},
   "source": [
    "### Peri-event time histogram (PETH)\n",
    "A neuron's response to the same sensory stimulus can vary trial-by-trial.\n",
    "\n",
    "A *raster plot* vertically aligns spike trains around the time of a certain event onset, such as stimulus presentation or movement onset, from different trials, to give us some idea of their response profile and variability.\n",
    "\n",
    "A *peri-event time histogram (PETH)* shows the average number of spikes in time bins of tens to hundreds of milliseconds around the event onset. If the event is a sensory stimulus, it is often called *peristimulus time histogram (PSTH)*."
   ]
  },
  {
   "cell_type": "markdown",
   "metadata": {},
   "source": [
    "### Spike-triggered average (STA)\n",
    "Characterizing the response property of a neuron the other way round is to see what happened before a spike is generated.\n",
    "That is *spike-triggered average (STA)* of sensory stimuli."
   ]
  },
  {
   "cell_type": "code",
   "execution_count": null,
   "metadata": {},
   "outputs": [],
   "source": []
  },
  {
   "cell_type": "markdown",
   "metadata": {},
   "source": [
    "## References\n",
    "\n",
    "### Neural databases\n",
    "\n",
    "* DANDI Archive: https://dandiarchive.org  \n",
    "* EBRAINS: https://www.ebrains.eu  \n",
    "* BRAIN/MINDS: https://dataportal.brainminds.jp  \n",
    "* Brainlife: https://brainlife.io  \n",
    "\n",
    "### ICA, GPFA\n",
    "\n",
    "* Makeig S, Bell A, Jung T-P, Sejnowski TJ (1995). Independent Component Analysis of Electroencephalographic Data. https://proceedings.neurips.cc/paper_files/paper/1995/hash/754dda4b1ba34c6fa89716b85d68532b-Abstract.html\n",
    "* McKeown MJ, Makeig S, Brown GG, Jung T-P, Kindermann SS, Bell AJ, Sejnowski TJ (1998). Analysis of fMRI data by blind separation into independent spatial components. Human Brain Mapping, 6, 160-188. https://doi.org/10.1002/(sici)1097-0193(1998)6:3<160::Aid-hbm5>3.0.Co;2-1  \n",
    "* Yu BM, Cunningham JP, Santhanam G, Ryu SI, Shenoy KV, Sahani M (2009). Gaussian-process factor analysis for low-dimensional single-trial analysis of neural population activity. J Neurophysiol, 102, 614-35. https://doi.org/10.1152/jn.90941.2008\n",
    "* Schneider S, Lee JH, Mathis MW (2023). Learnable latent embeddings for joint behavioural and neural analysis. Nature, 617, 360-368. https://doi.org/10.1038/s41586-023-06031-6\n",
    "    * https://cebra.ai\n",
    "\n",
    "### NMF\n",
    "\n",
    "* Lee DD, Seung HS (1999). Learning the parts of objects by non-negative matrix factorization. Nature, 401, 788-91. https://doi.org/10.1038/44565  \n",
    "* Giovannucci A, Friedrich J, Gunn P, Kalfon J, Brown BL, Koay SA, Taxidis J, Najafi F, Gauthier JL, Zhou P, Khakh BS, Tank DW, Chklovskii DB, Pnevmatikakis EA (2019). CaImAn an open source tool for scalable calcium imaging data analysis. Elife, 8. https://doi.org/10.7554/eLife.38173\n",
    "    * https://caiman.readthedocs.io  \n",
    "\n",
    "### t-SNE, UMAP\n",
    "\n",
    "* Maaten Lvd, Hinton G (2008). Visualizing data using t-SNE. Journal of Machine Learning Research, 9, 2579-2605. https://www.jmlr.org/papers/v9/vandermaaten08a.html\n",
    "* McInnes L, Healy J, Saul N, Großberger L (2018). UMAP: Uniform Manifold Approximation and Projection. Journal of Open Source Software, 3. https://doi.org/10.21105/joss.00861  \n",
    " "
   ]
  },
  {
   "cell_type": "markdown",
   "metadata": {},
   "source": [
    "### Encoding analysis\n",
    "\n",
    "* Shidara M, Kawano K, Gomi H, Kawato M (1993). Inverse-dynamics model eye movement control by Purkinje cells in the cerebellum. Nature, 365, 50-2. https://doi.org/10.1038/365050a0  \n",
    "* Yamins DL, DiCarlo JJ (2016). Using goal-driven deep learning models to understand sensory cortex. Nat Neurosci, 19, 356-65. https://doi.org/10.1038/nn.4244  \n",
    "\n",
    "### Decoding analysis\n",
    "\n",
    "* Miyawaki Y, Uchida H, Yamashita O, Sato MA, Morito Y, Tanabe HC, Sadato N, Kamitani Y (2008). Visual image reconstruction from human brain activity using a combination of multiscale local image decoders. Neuron, 60, 915-29. https://doi.org/10.1016/j.neuron.2008.11.004\n",
    "* Cheng FL, Horikawa T, Majima K, Tanaka M, Abdelhack M, Aoki SC, Hirano J, Kamitani Y (2023). Reconstructing visual illusory experiences from human brain activity. Sci Adv, 9, eadj3906. https://doi.org/10.1126/sciadv.adj3906\n",
    "\n",
    "### Causality analysis\n",
    "\n",
    "* Seth AK, Barrett AB, Barnett L (2015). Granger causality analysis in neuroscience and neuroimaging. J Neurosci, 35, 3293-7. https://doi.org/10.1523/JNEUROSCI.4399-14.2015  \n",
    "* Honey CJ, Kotter R, Breakspear M, Sporns O (2007). Network structure of cerebral cortex shapes functional connectivity on multiple time scales. Proc Natl Acad Sci U S A, 104, 10240-5. https://doi.org/10.1073/pnas.0701519104\n",
    "* Shimizu S (2018). Non-Gaussian Methods for Causal Structure Learning. Prev Sci. https://doi.org/10.1007/s11121-018-0901-x  \n",
    "* Shi J, Chen L, Aihara K (2022). Embedding entropy: a nonlinear measure of dynamical causality. J R Soc Interface, 19, 20210766. https://doi.org/10.1098/rsif.2021.0766\n",
    "* Park J, Sugihara G, Pao G (2024). Control of complex systems with generalized embedding and empirical dynamic modeling. PLoS One, 19, e0305408. https://doi.org/10.1371/journal.pone.0305408  \n",
    "\n",
    "### Information theoretic approach\n",
    "\n",
    "* Rosas F, Ntranos V, Ellison C, Pollin S, Verhelst M (2016). Understanding Interdependency Through Complex Information Sharing. Entropy, 18. https://doi.org/10.3390/e18020038  \n",
    "* Pica G, Soltanipour M, Panzeri S (2019). Using intersection information to map stimulus information transfer within neural networks. Biosystems, 185, 104028. https://doi.org/10.1016/j.biosystems.2019.104028  \n"
   ]
  },
  {
   "cell_type": "code",
   "execution_count": null,
   "metadata": {},
   "outputs": [],
   "source": []
  },
  {
   "cell_type": "code",
   "execution_count": null,
   "metadata": {},
   "outputs": [],
   "source": []
  }
 ],
 "metadata": {
  "kernelspec": {
   "display_name": "Python 3 (ipykernel)",
   "language": "python",
   "name": "python3"
  },
  "language_info": {
   "codemirror_mode": {
    "name": "ipython",
    "version": 3
   },
   "file_extension": ".py",
   "mimetype": "text/x-python",
   "name": "python",
   "nbconvert_exporter": "python",
   "pygments_lexer": "ipython3",
   "version": "3.12.11"
  }
 },
 "nbformat": 4,
 "nbformat_minor": 4
}
