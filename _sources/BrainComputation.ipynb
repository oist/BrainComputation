{
 "cells": [
  {
   "cell_type": "markdown",
   "metadata": {},
   "source": [
    "# Brain Computation: A Hands-on Guidebook\n",
    "\n",
    "Kenji Doya  \n",
    "August 2023 in Paris, and ever since in Okinawa"
   ]
  },
  {
   "cell_type": "markdown",
   "metadata": {},
   "source": [
    "## Preface\n",
    "\n",
    "The aim of this book is to introduce fundamental principles and basic algorithms of machine learning (ML) and seek their possible realization in the brain. Sample codes in Python and links to on-line resources in neuroniformatics are provided to facilitate intuitive understanding. \n",
    "\n",
    "I hope this book will be a helpful guide for students from both computational and biological background to grasp an overview of computational neuroscience and to start exploring novel computational mechanisms of the brain or incorporating insights from the brain for building novel AI systems.\n",
    "\n",
    "### Jupyter Book\n",
    "\n",
    "This book is made by *Jupyter Book* (https://jupyterbook.org).\n",
    "An important feature is that you can download the source codes as Jupyter Notebook by the Download icon on the top right corner of each chapter.\n",
    "\n",
    "Rather than just reading the html or pdf text, please run the codes, change parameters, apply your own data, and modify the codes to see how the algorithms really work (or fails)."
   ]
  },
  {
   "cell_type": "markdown",
   "metadata": {},
   "source": [
    "### Packages\n",
    "\n",
    "I tried to minimize the dependence on specialized packages to make the sample codes explict, rather than cleanly hiding details in a black box.\n",
    "\n",
    "Here are the basic Python packages used in this book.\n",
    "* jupyter: Jupyter Lab and Notebook\n",
    "* numpy: numerical arrays\n",
    "* matplotlib: basic graphics\n",
    "* ipympl: interactive graphics in Jupyter Lab and Notebook\n",
    "* ipython: user interface\n",
    "* scipy: scientific computing\n",
    "* scikit-learn: machine learning algorithms and sample data\n",
    "\n",
    "These can be installed by  \n",
    "```pip install jupyter numpy matplotlib ipympl ipython scipy scikit-learn```  \n",
    "or  \n",
    "```conda install jupyter numpy matplotlib ipympl ipython scipy scikit-learn```  \n"
   ]
  },
  {
   "cell_type": "markdown",
   "metadata": {
    "tags": []
   },
   "source": [
    "## Table of Contents\n",
    "\n",
    "```{tableofcontents}\n",
    "```"
   ]
  },
  {
   "cell_type": "code",
   "execution_count": null,
   "metadata": {
    "collapsed": true,
    "jupyter": {
     "outputs_hidden": true
    }
   },
   "outputs": [],
   "source": []
  }
 ],
 "metadata": {
  "kernelspec": {
   "display_name": "Python 3 (ipykernel)",
   "language": "python",
   "name": "python3"
  },
  "language_info": {
   "codemirror_mode": {
    "name": "ipython",
    "version": 3
   },
   "file_extension": ".py",
   "mimetype": "text/x-python",
   "name": "python",
   "nbconvert_exporter": "python",
   "pygments_lexer": "ipython3",
   "version": "3.12.9"
  }
 },
 "nbformat": 4,
 "nbformat_minor": 4
}
