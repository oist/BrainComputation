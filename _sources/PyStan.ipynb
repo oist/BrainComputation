{
 "cells": [
  {
   "cell_type": "markdown",
   "id": "e04e6b72-9e38-48fe-90cd-12208f76a24b",
   "metadata": {},
   "source": [
    "# Appendix: Bayesian Model Fitting by PyStan"
   ]
  },
  {
   "cell_type": "markdown",
   "id": "3d72e040-1eea-49ea-8d45-91b09e91977c",
   "metadata": {},
   "source": [
    "## Stan and PyStan\n",
    "\n",
    "*Stan* is a *probabilistic programming language* for probabilistic sampling and inference, including MCMC.\n",
    "Stan uses an efficient MCMC algorithm *Hamiltonian Monte Carlo (HMC)* by default.  \n",
    "https://mc-stan.org\n",
    "\n",
    "Stan is implemented by C++ and *PyStan* is a Python interface for Stan.  \n",
    "https://pystan.readthedocs.io  "
   ]
  },
  {
   "cell_type": "markdown",
   "id": "bc680a12",
   "metadata": {
    "jp-MarkdownHeadingCollapsed": true
   },
   "source": [
    "## Installing PyStan\n",
    "\n",
    "PyStan is supported for Linux and macOS with C++ complier.\n",
    "\n",
    "To use PyStan with Jupyter notebook, you need to install `httpstan`.  \n",
    "For Intel CPU machines, just pip install should work.\n",
    "```\n",
    "pip install httpstan\n",
    "```\n",
    "\n",
    "For Apple Silicone, you need to build from the source.\n",
    "Download the souce code from GitHub  \n",
    "https://github.com/stan-dev/httpstan  \n",
    "and install as guided in  \n",
    "https://httpstan.readthedocs.io/en/latest/installation.html\n",
    "\n",
    "Then you can install `pystan` and a visualization tool `arviz` by\n",
    "```\n",
    "pip install pystan arviz\n",
    "```"
   ]
  },
  {
   "cell_type": "markdown",
   "id": "76aab2f3-fcde-4526-96f7-47290452a765",
   "metadata": {},
   "source": [
    "## Import libraries"
   ]
  },
  {
   "cell_type": "code",
   "execution_count": null,
   "id": "33ee8660-1dda-49a8-aae7-33fc317d62eb",
   "metadata": {},
   "outputs": [],
   "source": [
    "import numpy as np\n",
    "import scipy.stats as stats\n",
    "import matplotlib.pyplot as plt\n",
    "%matplotlib inline"
   ]
  },
  {
   "cell_type": "code",
   "execution_count": null,
   "id": "6477bd23-a09b-46ed-947a-a3c1fcfb46e7",
   "metadata": {},
   "outputs": [],
   "source": [
    "import stan\n",
    "# For multichain MCMC\n",
    "import multiprocessing\n",
    "multiprocessing.set_start_method(\"fork\")\n",
    "\n",
    "import arviz\n",
    "# For running PyStan via Jupyter Notebook\n",
    "import nest_asyncio\n",
    "nest_asyncio.apply()"
   ]
  },
  {
   "cell_type": "markdown",
   "id": "6acdc21e-59cb-4e2b-aa63-f0acde565ccd",
   "metadata": {},
   "source": [
    "## Data sampling\n",
    "\n",
    "Here is a simple example of sampling data from a Gaussian distribution by PyStan."
   ]
  },
  {
   "cell_type": "code",
   "execution_count": null,
   "id": "31bf37fe-912e-40b3-afc1-8aadb97a6fbe",
   "metadata": {
    "tags": []
   },
   "outputs": [],
   "source": [
    "# make a normal distribution model\n",
    "model = stan.build('parameters {real x;} model {x ~ normal(0,1);}', random_seed=1)"
   ]
  },
  {
   "cell_type": "code",
   "execution_count": null,
   "id": "42b01141-8827-4e12-a092-a6528fb95d27",
   "metadata": {},
   "outputs": [],
   "source": [
    "# see the organization of the model\n",
    "model"
   ]
  },
  {
   "cell_type": "code",
   "execution_count": null,
   "id": "3453fed6-635e-433f-9ec1-c7a509020e8b",
   "metadata": {},
   "outputs": [],
   "source": [
    "# take 1000 samples\n",
    "sample = model.sample(num_chains=1, num_samples=1000, num_warmup=100)\n",
    "print(sample)\n",
    "print(sample['x'].shape)"
   ]
  },
  {
   "cell_type": "code",
   "execution_count": null,
   "id": "3a09549b-a8eb-4bc6-88c5-d2113d356ad3",
   "metadata": {},
   "outputs": [],
   "source": [
    "# see the samples\n",
    "plt.subplot(1,3,(1,2))\n",
    "plt.plot(sample['x'][0], '.');\n",
    "plt.ylabel('x')\n",
    "# show the histogram\n",
    "plt.subplot(1,3,3)\n",
    "plt.hist(sample['x'][0], orientation='horizontal');"
   ]
  },
  {
   "cell_type": "code",
   "execution_count": null,
   "id": "34d1454c-07c2-4eef-b261-95d4aac10291",
   "metadata": {},
   "outputs": [],
   "source": [
    "# plot the sample distribution\n",
    "arviz.plot_posterior(sample, var_names=['x']);"
   ]
  },
  {
   "cell_type": "code",
   "execution_count": null,
   "id": "9e110079-5b77-47c2-b99b-421442a01edc",
   "metadata": {},
   "outputs": [],
   "source": []
  },
  {
   "cell_type": "markdown",
   "id": "d9e57d50-3930-4813-b767-8f0ca09162ce",
   "metadata": {},
   "source": [
    "## General steps for Bayesian modeling with stan\n",
    "\n",
    "1. Describing a probabilistic generative model using Stan language.\n",
    "2. Compiling a Stan file.\n",
    "3. Running MCMC to obtain posterior samples.\n",
    "4. Diagnosing the validity of MCMC.\n",
    "5. Evaluating an obtained posterior."
   ]
  },
  {
   "cell_type": "markdown",
   "id": "56f95a15-bf5f-46d4-8bb9-a911317f6a73",
   "metadata": {},
   "source": [
    "## Example 1: Coin-toss\n",
    "\n",
    "Let us first see a very basic example of coin toss.\n",
    "\n",
    "Head ($x=1$) and tail ($x=0$) follows a Bernoulli distribution:\n",
    "$$ x \\sim \\mbox{Bernoulli}(\\mu) $$\n",
    "where $\\mu$ is the mean parameter $0 \\le \\mu \\le 1$.\n",
    "\n",
    "A common prior distribution for $\\mu$ is the Beta distribution \n",
    "$\\mbox{Beta}(x, a, b) \\sim x^{a-1} (1-x)^{b-1}$."
   ]
  },
  {
   "cell_type": "markdown",
   "id": "cdd8a4f0-69d5-4858-b846-3b57acdef6f8",
   "metadata": {},
   "source": [
    "For $n$ coin tosses, the number of heads $x$ follows a binomial distribution:\n",
    "$$ x \\sim \\mbox{Binomial}(n, \\mu) $$"
   ]
  },
  {
   "cell_type": "markdown",
   "id": "af46cd8a-92ab-418f-bb94-ad388a777f16",
   "metadata": {},
   "source": [
    "### Step 1: Describing a probabilistic generative model using Stan language\n",
    "\n",
    "Here we are interested to estimate the mean parameter $\\mu$ from samples."
   ]
  },
  {
   "cell_type": "code",
   "execution_count": null,
   "id": "b50a93ac-42b7-47e8-bbb9-2ad70c343dd9",
   "metadata": {},
   "outputs": [],
   "source": [
    "stan_coin_toss = \"\"\"\n",
    "data {\n",
    "    int<lower=0> n; // Number of tosses\n",
    "    int<lower=0> x; // Number of heads\n",
    "    int<lower=0> a; // Parameter \"a\" of the prior (Beta Distribution)\n",
    "    int<lower=0> b; // Parameter \"b\" of the prior (Beta Distribution)\n",
    "}\n",
    "\n",
    "parameters {\n",
    "    real<lower=0, upper=1> mu;\n",
    "}\n",
    "\n",
    "model {\n",
    "    mu ~ beta(a, b); // Write a prior distribution\n",
    "    x ~ binomial(n, mu);\n",
    "}\n",
    "\"\"\""
   ]
  },
  {
   "cell_type": "code",
   "execution_count": null,
   "id": "feef7855-8855-4a58-b458-a7efbbeeafd8",
   "metadata": {},
   "outputs": [],
   "source": [
    "n = 100    # Number of tosses\n",
    "x = 60     # Number of heads\n",
    "a = 2     # Parameter \"a\" of the prior (Beta Distribution)\n",
    "b = 4     # Parameter \"b\" of the prior (Beta Distribution)"
   ]
  },
  {
   "cell_type": "code",
   "execution_count": null,
   "id": "9fc3b38a-4a51-4a5a-9997-1badedd2ef06",
   "metadata": {},
   "outputs": [],
   "source": [
    "data_coin_toss = {\n",
    "    \"n\": n,\n",
    "    \"x\": x,\n",
    "    \"a\": a,\n",
    "    \"b\": b\n",
    "}"
   ]
  },
  {
   "cell_type": "markdown",
   "id": "1d5da3f8-e661-482b-8aeb-359df5395904",
   "metadata": {},
   "source": [
    "### Step 2: Compiling a Stan file"
   ]
  },
  {
   "cell_type": "code",
   "execution_count": null,
   "id": "f292af2c-33d2-40c3-ab21-1ebac9ca77e2",
   "metadata": {
    "scrolled": true
   },
   "outputs": [],
   "source": [
    "posterior = stan.build(stan_coin_toss, data=data_coin_toss, random_seed=1)"
   ]
  },
  {
   "cell_type": "markdown",
   "id": "1dfae51e-7cb6-4c6c-aa6b-7e53b9152837",
   "metadata": {},
   "source": [
    "### Step 3: Running MCMC to obtain posterior samples"
   ]
  },
  {
   "cell_type": "code",
   "execution_count": null,
   "id": "6afa2807-2fed-4cd5-bddb-b0699cf3972c",
   "metadata": {
    "tags": []
   },
   "outputs": [],
   "source": [
    "# take samples\n",
    "fit = posterior.sample(num_chains=4, num_samples=2000, num_warmup=100)\n",
    "fit"
   ]
  },
  {
   "cell_type": "code",
   "execution_count": null,
   "id": "d60826b5-1623-4e1e-813d-1e8f287e7f7e",
   "metadata": {
    "tags": []
   },
   "outputs": [],
   "source": [
    "# see the sampled parameters\n",
    "plt.subplot(1,3,(1,2))\n",
    "plt.plot(fit['mu'][0], '.')\n",
    "plt.ylabel(r'$\\mu$')\n",
    "# show the histogram\n",
    "plt.subplot(1,3,3)\n",
    "plt.hist(fit['mu'][0], orientation='horizontal')\n",
    "plt.tight_layout()"
   ]
  },
  {
   "cell_type": "code",
   "execution_count": null,
   "id": "a4f8bb08-09b7-4d14-a538-ae6d10ec5308",
   "metadata": {},
   "outputs": [],
   "source": []
  },
  {
   "cell_type": "markdown",
   "id": "f24ddb34-ec98-499d-8395-344daf046a87",
   "metadata": {},
   "source": [
    "### Step 4: Diagnosing the validity of MCMC\n",
    "\n",
    "The essential point is whether a simulated chain is converged to a stationary process. A simple method to diagnose the convergence is to calculate the [Gelman-Rubin statistic](https://en.wikipedia.org/wiki/Gelman-Rubin_statistic) (a.k.a. Rhat). \n",
    "\n",
    "You can easily calculate it (and another statistic called effective sample size (ESS)) by using [Arviz](https://python.arviz.org/en/latest/api/generated/arviz.summary.html).\n",
    "\n",
    "Rhat of converged samples becomes 1. [The Stan development team](https://search.r-project.org/CRAN/refmans/rstan/html/Rhat.html) says that the diagnosis is accepted if Rhat is between 1 and 1.05 but there is open to debate.\n",
    "\n",
    "ESS is for evaluating whether there is autocorrelation within a chain. If ESS is larger than sample size of each chain, it is proved that autocorrelation is small enough."
   ]
  },
  {
   "cell_type": "code",
   "execution_count": null,
   "id": "f3aa5eca-8f69-4d72-bafd-ead885c8b3ee",
   "metadata": {},
   "outputs": [],
   "source": [
    "arviz.summary(arviz.from_pystan(posterior=fit, posterior_model=posterior))"
   ]
  },
  {
   "cell_type": "markdown",
   "id": "0734c044-ad94-45be-aecd-3a9a40267654",
   "metadata": {},
   "source": [
    "It is also good to check a convergence by your eyes. If you simulate multiple chains, it is important to check whether there is not big shape difference among posterior distributions from the chains."
   ]
  },
  {
   "cell_type": "code",
   "execution_count": null,
   "id": "fdfc2954-1e9d-4301-b2c7-6437ce86d757",
   "metadata": {},
   "outputs": [],
   "source": [
    "arviz.plot_trace(fit, var_names=('mu'), combined=False);"
   ]
  },
  {
   "cell_type": "markdown",
   "id": "d5c67ac2-e0cb-47b2-a79b-38394e41558c",
   "metadata": {},
   "source": [
    "If MCMC is not converged, the following solutions (and more) are considered.\n",
    "\n",
    "- Increasing burn-in samples\n",
    "- Increasing the number of chains\n",
    "- Reconsidering a model structure"
   ]
  },
  {
   "cell_type": "code",
   "execution_count": null,
   "id": "b8c3c27d-7c64-499c-9ef5-be129a3aa48a",
   "metadata": {},
   "outputs": [],
   "source": []
  },
  {
   "cell_type": "markdown",
   "id": "42224515-524b-4fb6-941f-7e97f66bb861",
   "metadata": {},
   "source": [
    "### Step 5: Evaluating an obtained posterior\n",
    "\n",
    "Highest density interval (HDI): All points within HDI have a higher probability density than points outside the interval. The HDI can be used in the context of uncertainty characterisation of posterior distributions as Credible Interval (CI)."
   ]
  },
  {
   "cell_type": "code",
   "execution_count": null,
   "id": "952f22fb-6ed8-4ae5-a342-55ce6d26ab07",
   "metadata": {},
   "outputs": [],
   "source": [
    "arviz.plot_posterior(fit, var_names=['mu']);"
   ]
  },
  {
   "cell_type": "markdown",
   "id": "3eed0765-b902-48a9-bbfa-8cca5f25b7ec",
   "metadata": {},
   "source": [
    "This example is simple enough to compute a posterior analytically. Let's see how close the MCMC posterior is to the analytical posterior."
   ]
  },
  {
   "cell_type": "code",
   "execution_count": null,
   "id": "1d671168-71d5-4d60-a8de-3272f1f42faa",
   "metadata": {},
   "outputs": [],
   "source": [
    "mus = np.linspace(0, 1, 200)\n",
    "prior = stats.beta(a, b)\n",
    "post = stats.beta(a+x, b+n-x)\n",
    "post_hist = np.histogram(fit['mu'], bins=mus)\n",
    "post_dist = stats.rv_histogram(post_hist)\n",
    "\n",
    "plt.figure(figsize=(8, 6))\n",
    "plt.plot(mus, prior.pdf(mus), label='Prior', c='blue')\n",
    "plt.plot(mus, n*stats.binom(n, mus).pmf(x), label='Likelihood', c='green')\n",
    "plt.plot(mus, post_dist.pdf(mus), label='MCMC posterior', c='orange')\n",
    "plt.axvline((x+a-1)/(n+a+b-2), label='MAP', c='red', ls='dashed')\n",
    "plt.plot(mus, post.pdf(mus), label='Analytical posterior', c='red', ls='dotted')\n",
    "# plt.axvline(mu/n, c='green', linestyle='dashed', alpha=0.4, label='MLE')\n",
    "plt.xlim([0, 1])\n",
    "plt.xlabel(r'$\\mu$', fontsize=14)\n",
    "plt.ylabel('Density', fontsize=16)\n",
    "plt.legend()\n",
    "plt.show()"
   ]
  },
  {
   "cell_type": "code",
   "execution_count": null,
   "id": "321208b8-9c19-430b-a6c4-9b4efc86887f",
   "metadata": {},
   "outputs": [],
   "source": []
  },
  {
   "cell_type": "markdown",
   "id": "3217201e-f96d-4aa3-9b99-aea2a8f270a4",
   "metadata": {},
   "source": [
    "## References\n",
    "\n",
    "* Carpenter B, Gelman A, Hoffman MD, Lee D, Goodrich B, Betancourt M, Brubaker M, Guo J, Li P, Riddell A (2017). Stan: A Probabilistic Programming Language. Journal of Statistical Software, 76. https://doi.org/10.18637/jss.v076.i01  \n",
    "* Stan web site: https://mc-stan.org  \n",
    "* PyStan readthedocs: https://pystan.readthedocs.io/en/latest/  \n",
    "* https://en.wikipedia.org/wiki/Probabilistic_programming  "
   ]
  },
  {
   "cell_type": "code",
   "execution_count": null,
   "id": "2aa37ed9-4baf-4087-96c5-db96cba182fa",
   "metadata": {},
   "outputs": [],
   "source": []
  }
 ],
 "metadata": {
  "kernelspec": {
   "display_name": "Python 3 (ipykernel)",
   "language": "python",
   "name": "python3"
  },
  "language_info": {
   "codemirror_mode": {
    "name": "ipython",
    "version": 3
   },
   "file_extension": ".py",
   "mimetype": "text/x-python",
   "name": "python",
   "nbconvert_exporter": "python",
   "pygments_lexer": "ipython3",
   "version": "3.12.9"
  }
 },
 "nbformat": 4,
 "nbformat_minor": 5
}
