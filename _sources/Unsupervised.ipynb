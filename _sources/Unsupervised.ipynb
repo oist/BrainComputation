{
 "cells": [
  {
   "cell_type": "markdown",
   "metadata": {},
   "source": [
    "# Chapter 5. Unsupervised Learning"
   ]
  },
  {
   "cell_type": "markdown",
   "metadata": {},
   "source": [
    "$$ % Latex macros\n",
    "\\newcommand{\\mat}[1]{\\begin{pmatrix} #1 \\end{pmatrix}}\n",
    "\\newcommand{\\p}[2]{\\frac{\\partial #1}{\\partial #2}}\n",
    "\\newcommand{\\b}[1]{\\boldsymbol{#1}}\n",
    "\\newcommand{\\c}[1]{\\mathcal{#1}}\n",
    "$$"
   ]
  },
  {
   "cell_type": "markdown",
   "metadata": {},
   "source": [
    "## Contents    \n",
    "* Clustering (Bishop, Chater 9):\n",
    "    * $k$-means clustering\n",
    "    * mixtures of Gaussians\n",
    "    * self-organizing maps (SOM)\n",
    "\n",
    "\n",
    "* Subspace mapping (Biship, Chapter 12):\n",
    "    * principal component analysis (PCA)\n",
    "    * singular value decomposition (SVD)\n",
    "    * independent component analysis (ICA)\n",
    "    \n",
    "    \n",
    "* Neural Mechanisms\n",
    "    * Receptive field formation"
   ]
  },
  {
   "cell_type": "markdown",
   "metadata": {},
   "source": [
    "As we grow, we learn that there are different things and creatures in the world, such as plants and animals, and in more detail, dogs, cats and humans. \n",
    "What is remarkable is that most of such learning is done spontaneously without explicit teaching about what is a dog, or labels specifying which is a dog or which is cat.\n",
    "Learning categories without explicit labels is an example of *unspervised learning*. But how can we define categories without category labels?\n",
    "\n",
    "The key in unsupervised learning is to find a certain structure in the distribution $p(\\b{x})$ that produced the observed data $\\{\\b{x}_1,...,\\b{x}_N\\}$. \n",
    "\n",
    "Typical cases are:\n",
    "* Dividing into clusters:\n",
    "    * $k$-means clustering\n",
    "    * mixtures of Gaussians\n",
    "    * self-organizing maps (SOM)\n",
    "\n",
    "\n",
    "* Decomposing into components:\n",
    "    * principal component analysis (PCA)\n",
    "    * singular value decomposition (SVD)\n",
    "    * independent component analysis (ICA)\n",
    "    "
   ]
  },
  {
   "cell_type": "markdown",
   "metadata": {},
   "source": [
    "## K-means Clustering\n",
    "\n",
    "The most basic method of clustering is *$K$-means clustering*, \n",
    "which divides a data set $\\{\\b{x}_1,…,\\b{x}_N\\}$ into $K$ clusters.\n",
    "\n",
    "We define prototypes $\\b{\\mu}_k$ for $k=1,...,K$ clusters and specify belonging of data points by binary *indicator variables* $r_{nk}\\in\\{0,1\\}$.\n",
    "\n",
    "A good clustering is achieved by minimizing the *distortion measure*\n",
    "\n",
    "$$ J = \\sum_{n=1}^N \\sum_{k=1}^K r_{nk}||\\b{x}_n-\\b{\\mu}_k||^2. $$\n",
    "\n",
    "We do that by repeating the following steps:\n",
    "\n",
    "* For the current prototypes $\\b{\\mu}_k$, re-assign data points.  \n",
    "    * for each $\\b{x}_n$, find the nearest $\\b{\\mu}_k$ and set $r_{nk} = 1$ and  $r_{n j\\ne k} = 0$ .\n",
    "    \n",
    "* For the current assignment by $r_{nk}$, update the prototypes by\n",
    "\n",
    "$$ \\b{\\mu}_k = \\frac{\\sum_{n=1}^N r_{nk}\\b{x}_n}{\\sum_{n=1}^N r_{nk}}$$"
   ]
  },
  {
   "cell_type": "code",
   "execution_count": null,
   "metadata": {},
   "outputs": [],
   "source": [
    "import numpy as np\n",
    "import matplotlib.pyplot as plt\n",
    "%matplotlib inline"
   ]
  },
  {
   "cell_type": "code",
   "execution_count": null,
   "metadata": {},
   "outputs": [],
   "source": [
    "# Load data from a text file\n",
    "X = np.loadtxt('data/faithful.txt')\n",
    "N, D = X.shape\n",
    "plt.scatter(X[:,0], X[:,1])\n",
    "plt.xlabel('eruption time (min)')\n",
    "plt.ylabel('waiting time (min)');"
   ]
  },
  {
   "cell_type": "code",
   "execution_count": null,
   "metadata": {},
   "outputs": [],
   "source": [
    "K = 2  # number of clusters\n",
    "# Initial guess of prototypes\n",
    "Mu = X[np.random.randint(0, N, K),:]   # pick K points randomly\n",
    "plt.scatter(X[:,0], X[:,1], marker='.')\n",
    "plt.scatter(Mu[:,0], Mu[:,1], c=range(K), marker='+', s=100)\n",
    "plt.show()\n",
    "Y = np.zeros(N, dtype=int)    # cluster label\n",
    "R = np.zeros((N,K), dtype=bool)   # assignment matrix\n",
    "for t in range(5):\n",
    "    # Update assignment\n",
    "    for n in range(N):\n",
    "        # check the distances\n",
    "        dist = [ np.dot(X[n]-Mu[k], X[n]-Mu[k]) for k in range(K)]\n",
    "        # find the nearest mean\n",
    "        Y[n] = np.argmin(dist)\n",
    "        R[n,:] = np.zeros(K)\n",
    "        R[n,Y[n]] = 1\n",
    "    # show assignment\n",
    "    plt.scatter(X[:,0], X[:,1], c=Y, marker='.')\n",
    "    # Update the means\n",
    "    for k in range(K):\n",
    "        Mu[k] = np.mean(X[R[:,k]], axis=0)\n",
    "    # plot the new means\n",
    "\n",
    "    plt.scatter(Mu[:,0], Mu[:,1], c=range(K), marker='+', s=100)\n",
    "    plt.show()"
   ]
  },
  {
   "cell_type": "code",
   "execution_count": null,
   "metadata": {},
   "outputs": [],
   "source": []
  },
  {
   "cell_type": "markdown",
   "metadata": {},
   "source": [
    "## Mixtures of Gaussians\n",
    "\n",
    "It is often the case that clusters have some overlaps and assignment is probabilistic. *Mixtures of Gaussians* is a probabilistic extention of $K$-means clustering.\n",
    "\n",
    "*Gaussian mixture distribution* has a form\n",
    "\n",
    "$$ p(\\b{x}) = \\sum_{k=1}^K \\pi_{k} \\mathcal{N}(\\b{x}|\\b{\\mu}_k, \\Sigma_k) $$\n",
    "\n",
    "where $\\b{\\mu}_k$ and $\\Sigma_k$ are the mean and the variance of $k$-th Gaussian and $\\pi_k$ is the mixture probability."
   ]
  },
  {
   "cell_type": "code",
   "execution_count": null,
   "metadata": {},
   "outputs": [],
   "source": [
    "# sample from a Gaussian mixture distribution\n",
    "def gaussmix(pi, mu, sigma):\n",
    "    K = len(pi)\n",
    "    z = np.random.multinomial(1, pi)  # binary stochastic variable\n",
    "    k = list(z).index(1)    # the index of z_k=1\n",
    "    x = np.random.multivariate_normal(mu[k], sigma[k])\n",
    "    return x, k"
   ]
  },
  {
   "cell_type": "code",
   "execution_count": null,
   "metadata": {},
   "outputs": [],
   "source": [
    "pi = [0.3, 0.7]    # mixture probability\n",
    "mu = [[0,0], [5,3]]     # means\n",
    "sigma = [[[1,-1],[-1,2]], [[2,1],[1,1]]]   # variances\n",
    "N = 1000\n",
    "X = np.zeros((N,2))\n",
    "Y = np.zeros(N, dtype=int)\n",
    "for n in range(N):\n",
    "    X[n,:], Y[n] = gaussmix(pi, mu, sigma)\n",
    "plt.scatter(X[:,0], X[:,1], c=Y, marker='.');"
   ]
  },
  {
   "cell_type": "markdown",
   "metadata": {},
   "source": [
    "## Expectation-maximization (EM) Algorithm\n",
    "\n",
    "We consider a binary stochastic variable\n",
    "\n",
    "$$ \\b{z}=(z_1,…,z_K) \\mbox{ where } z_k\\in\\{0,1\\} \\mbox{ and } \\sum_{k=1}^K z_k=1 $$\n",
    "\n",
    "indicating which Gaussian a data point belongs to.\n",
    "\n",
    "For fitting the parameters $\\pi_k$, $\\mu_k$ and $\\Sigma_k$ $(k=1,...,K)$, we repeat the following steps, called the *expectation-maximization (EM)* algorithm:\n",
    "\n",
    "### E (expectation) step\n",
    "\n",
    "For the current parameters $(\\pi_k,\\mu_k$,$\\Sigma_k)$, evaluate the posterior distribution of $\\b{z}$ given $\\b{x}$, called *responsibility*:\n",
    "\n",
    "$$ r_{nk} = p(z_k=1|\\b{x}_n) = \\frac{\\pi_k\\c{N}(\\b{x}_n|\\b{\\mu}_k,\\Sigma_k)}{\\sum_{j=1}^K \\pi_j\\c{N}(\\b{x}_n|\\b{\\mu}_j,\\Sigma_j)} $$\n",
    "\n",
    "### M (maximization) step\n",
    "\n",
    "For the current responsibility, estimate new parameters:\n",
    "\n",
    "$$ N_k = \\sum_{n=1}^N r_{nk} $$\n",
    "\n",
    "$$ \\pi_k = \\frac{N_k}{N} $$\n",
    "\n",
    "$$ \\b{\\mu}_k = \\frac{1}{N_k}\\sum_{n=1}^N r_{nk}\\b{x}_n $$\n",
    "\n",
    "$$ \\Sigma_k = \\frac{1}{N_k}\\sum_{n=1}^N r_{nk}(\\b{x}_n-\\b{\\mu}_k)(\\b{x}_n-\\b{\\mu}_k)^T $$"
   ]
  },
  {
   "cell_type": "code",
   "execution_count": null,
   "metadata": {},
   "outputs": [],
   "source": [
    "X = np.loadtxt('data/faithful.txt')\n",
    "N, D = X.shape"
   ]
  },
  {
   "cell_type": "code",
   "execution_count": null,
   "metadata": {},
   "outputs": [],
   "source": [
    "# Initial means, covariance, responsibility\n",
    "K = 2  # number of clusters\n",
    "Pi = np.ones(K)/K   # cluster probability\n",
    "Mu = X[np.random.randint(0, N, K),:]   # pick K points randomly\n",
    "Sig = np.repeat(np.cov(X.T).reshape(1,D,D), K, axis=0)   # covariance for entire data\n",
    "plt.scatter(X[:,0], X[:,1], marker='.')\n",
    "#plt.hold(True)\n",
    "plt.scatter(Mu[:,0], Mu[:,1], c=range(K), marker='+', s=100)\n",
    "plt.show()\n",
    "R = np.zeros((N,K))   # responsibility matrix\n",
    "pr = np.zeros(K)   # data probability for each cluster\n",
    "Lambda = np.zeros((K,D,D))  # inverse covariance\n",
    "detSig = np.zeros(K)    # sqrt(det(Sig))\n",
    "for t in range(15):\n",
    "    # Expectation step\n",
    "    for k in range(K):\n",
    "        Lambda[k] = np.linalg.inv(Sig[k])   # inverse covariance\n",
    "        detSig[k] = np.sqrt(np.linalg.det(Sig[k]))\n",
    "    for n in range(N):\n",
    "        # check the distances\n",
    "        for k in range(K):\n",
    "            #dx = np.matrix(X[n,:] - Mu[k,:])   # deviation from mean\n",
    "            dx = X[n,:] - Mu[k,:]   # deviation from mean\n",
    "            pr[k] = Pi[k]*np.exp(-dx@Lambda[k]@dx.T/2)/detSig[k]\n",
    "        # responsibility\n",
    "        R[n,:] = pr/np.sum(pr)    # responsibility p(z)\n",
    "    # show assignment\n",
    "    plt.scatter(X[:,0], X[:,1], c=np.dot(R,np.arange(K)), marker='.')\n",
    "    # Maximization step\n",
    "    num = np.sum(R, axis=0);    # effective numbers for each class\n",
    "    Pi = num/N    # class prior\n",
    "    for k in range(K):\n",
    "        Mu[k,:] = np.sum(R[:,k]*X.T, axis=1)/num[k]\n",
    "        dX = X - Mu[k,:]\n",
    "        Sig[k] = R[:,k]/num[k]*dX.T@dX  # cluster covariance    \n",
    "    # plot the new means\n",
    "    #plt.hold(True)\n",
    "    plt.scatter(Mu[:,0], Mu[:,1], c=range(K), marker='+', s=100)\n",
    "    plt.show()"
   ]
  },
  {
   "cell_type": "code",
   "execution_count": null,
   "metadata": {},
   "outputs": [],
   "source": []
  },
  {
   "cell_type": "markdown",
   "metadata": {},
   "source": [
    "## Dirichlet Process Mixture\n",
    "One problem in $K$-means and Mixture of Gaussians is that you have to assume the number of clusters $K$ beforehand.\n",
    "\n",
    "There is an extension called *Dirichlet process mixture* that decides the number of clusters based on the data.\n",
    "\n",
    "See Kevin Murphy (2012) Ch. 25.2 for details."
   ]
  },
  {
   "cell_type": "markdown",
   "metadata": {},
   "source": [
    "### scikit-learn\n",
    "[scikit-learn](http://scikit-learn.org/stable/) is a popular Pyhon libraries of supervised and unsupervised learning algorithms with excellent documentation, examples and \n",
    "[tutorials](http://scikit-learn.org/stable/tutorial/machine_learning_map)"
   ]
  },
  {
   "cell_type": "code",
   "execution_count": null,
   "metadata": {},
   "outputs": [],
   "source": [
    "from sklearn import mixture"
   ]
  },
  {
   "cell_type": "code",
   "execution_count": null,
   "metadata": {},
   "outputs": [],
   "source": [
    "# Create a Dirichlet process mixture of Gaussians\n",
    "dpm = mixture.BayesianGaussianMixture(n_components=5, max_iter=100)\n",
    "# Fit to data\n",
    "dpm.fit(X)\n",
    "Mu = dpm.means_\n",
    "Pi = dpm.weights_\n",
    "#K = dpm.n_components\n",
    "print(\"pi =\", dpm.weights_)\n",
    "# class label\n",
    "Y = dpm.predict(X)\n",
    "plt.scatter(X[:,0], X[:,1], c=Y);\n",
    "#plt.scatter(Mu[:,0], Mu[:,1], c=range(K), marker='+',s=300);"
   ]
  },
  {
   "cell_type": "code",
   "execution_count": null,
   "metadata": {},
   "outputs": [],
   "source": []
  },
  {
   "cell_type": "markdown",
   "metadata": {},
   "source": [
    "## Principal Component Analysis\n",
    "Grasping the distribution of a high-dimensional data is not easy for human eyes. We often try to find a low-dimensional projection of the data that characteirizes the distribution.\n",
    "\n",
    "*Principal componet analysis (PCA)* finds the directions of the data distribution with the largest variance. \n",
    "\n",
    "Consider a projection of $D$-dimensional vector $\\b{x} = (x_1,...,x_D)^T$ to \n",
    "$M$-dimensional vector $\\b{y} = (y_1,...,y_M)^T$ by \n",
    "\n",
    "$$ \\b{y} = V \\b{x} $$\n",
    "\n",
    "where $V = (\\b{v}_1,...,\\b{v}_M)^T$, $||\\b{v}_m||=1$.\n",
    "\n",
    "For a data set $X=(x_1,...,x_N)^T$ with zero mean (mean subtracted),\n",
    "we try to find the projection by $V$ that make the variance of $\\b{y}$ the largest.\n",
    "\n",
    "Using the data covariance \n",
    "\n",
    "$$ C = \\frac{1}{N}X^T X = \\frac{1}{N}\\sum_{n=1}^N \\b{x}_n\\b{x}_n^T $$\n",
    "\n",
    "the covariance of projection $\\b{z}$ is given as $V^T C V$.\n",
    "\n",
    "After solving the eigenvalue problem $C\\b{v}=\\lambda \\b{v}$, \n",
    "the covariance of projected data is maximized by $V=(\\b{v}_1,...,\\b{v}_M)^T$ made of the eigenvectors with the largest eigenvalues $\\lambda_1,...,\\lambda_M$."
   ]
  },
  {
   "cell_type": "code",
   "execution_count": null,
   "metadata": {},
   "outputs": [],
   "source": [
    "# sklearn.datasets offers a wide range of public datasets\n",
    "from sklearn import datasets\n",
    "# the iris dataset\n",
    "iris = datasets.load_iris()\n",
    "X = iris.data  # flower features\n",
    "T = iris.target  # flower types\n",
    "N, D = X.shape\n",
    "print(N, D)"
   ]
  },
  {
   "cell_type": "code",
   "execution_count": null,
   "metadata": {},
   "outputs": [],
   "source": [
    "# plot the data in 3D\n",
    "from mpl_toolkits.mplot3d import Axes3D # for 3D plotting\n",
    "fig = plt.figure()\n",
    "ax = fig.add_subplot(111,projection='3d')\n",
    "ax.scatter(X[:,0], X[:,1], X[:,2], c=T);"
   ]
  },
  {
   "cell_type": "code",
   "execution_count": null,
   "metadata": {},
   "outputs": [],
   "source": [
    "# Data covariance\n",
    "X = X - np.mean(X, axis=0)  # subtract the mean\n",
    "C = X.T@X/N\n",
    "# eigenvalue L[i] and normal eigenvector V[:,i]\n",
    "L, Vt = np.linalg.eigh( C)   # for symmetric matrix\n",
    "#L, V = linalg.eig( C)\n",
    "# in matrix form: C*V=V*L, i.e. C=V*L*V' from V'*V=I\n",
    "print(L)   # eigenvalues\n",
    "print(Vt)   # columns are eigenvectors"
   ]
  },
  {
   "cell_type": "code",
   "execution_count": null,
   "metadata": {},
   "outputs": [],
   "source": [
    "ind = np.argsort(-L)  # largest first\n",
    "L = L[ind]  # reorder\n",
    "V = Vt.T[ind]  \n",
    "print(V)\n",
    "plt.plot(L)\n",
    "plt.xlabel(\"index m\")\n",
    "plt.ylabel(r\"$\\lambda_m$\");"
   ]
  },
  {
   "cell_type": "code",
   "execution_count": null,
   "metadata": {},
   "outputs": [],
   "source": [
    "# Projection of data to the PC space\n",
    "Z = X@V.T\n",
    "# First two PC\n",
    "plt.scatter(Z[:,0], Z[:,1], c=T);"
   ]
  },
  {
   "cell_type": "code",
   "execution_count": null,
   "metadata": {},
   "outputs": [],
   "source": [
    "# Last two PC\n",
    "plt.scatter(Z[:,2], Z[:,3], c=T);"
   ]
  },
  {
   "cell_type": "code",
   "execution_count": null,
   "metadata": {},
   "outputs": [],
   "source": []
  },
  {
   "cell_type": "markdown",
   "metadata": {},
   "source": [
    "## Singular value decomposition (SVD)\n",
    "\n",
    "Singular value decomposition (SVD) represents a $N\\times D$ matrix ($N>D$) by a weighted sum of products of column vectors $\\b{u}_i \\in \\Re^N$ and row vectors $\\b{v}_i^T \\in \\Re^D$\n",
    "\n",
    "$$ X = \\sum_{i=1}^D s_i \\b{u}_i \\b{v}_i^T $$\n",
    "\n",
    "where $\\b{v}_i$ are the eigenvectors of $X^T X$ and $s_i= \\sqrt{\\lambda_i}$ are given by their corresponding eigenvalues ($\\lambda_1 \\ge ... \\ge\\lambda_D$).\n",
    "\n",
    "In a matrix form, SVD is represented as \n",
    "\n",
    "$$ X = U S V^T $$\n",
    "\n",
    "where \n",
    "\n",
    "$$ U = (\\b{u}_1,...,\\b{u}_D) \\in \\Re^{N\\times D} \\mbox{(or $\\Re^{N\\times N}$ with empty columns)} $$\n",
    "\n",
    "$$ S = \\mbox{diag}(\\sqrt{\\lambda_1},...,\\sqrt{\\lambda_D}) \\in \\Re^{D\\times D}  \\mbox{(or $\\Re^{N\\times D}$ with empty rows)} $$\n",
    "\n",
    "$$ V = (\\b{v}_1,...,\\b{v}_D) \\in \\Re^{D\\times D}. $$\n",
    "\n",
    "Because $V$ is the same as that for PCA, the SVD algorithm is often used for PCA."
   ]
  },
  {
   "cell_type": "code",
   "execution_count": null,
   "metadata": {
    "scrolled": true
   },
   "outputs": [],
   "source": [
    "# X = U*S*V' where S is a diagonal matrix\n",
    "# i.e. C = X'*X/N = V*S^2/N*V'\n",
    "U, S, Vs = np.linalg.svd(X)\n",
    "# See if they match those derived from covariance matrix\n",
    "print(S**2/N)\n",
    "print(L)\n",
    "print(Vs)\n",
    "print(V)  "
   ]
  },
  {
   "cell_type": "code",
   "execution_count": null,
   "metadata": {},
   "outputs": [],
   "source": []
  },
  {
   "cell_type": "markdown",
   "metadata": {},
   "source": [
    "## Online PCA\n",
    "\n",
    "It has been shown that a simple linear neural network can perform computation similar to PCA (Sanger 1989). \n",
    "\n",
    "Let us consider a two-layer network \n",
    "\n",
    "$$ \\b{y} = W \\b{x} $$\n",
    "\n",
    "with input $\\b{x}=(x_1,...,x_D)^T$, output $\\b{y}=(y_1,...,y_M)^T$, and $M\\times D$ connection weights $W$ ($M<D$).\n",
    "\n",
    "The *generalized Hebbian algorithm* considers an ordered suppression of the input by the components already captured by other units.\n",
    "\n",
    "In a componet form, it is represented as\n",
    "\n",
    "$$ \\Delta w_{ij} = \\alpha(y_i x_j - y_i\\sum_{k\\le i} w_{kj}y_k) $$\n",
    "\n",
    "$$ = \\alpha[y_i(x_j - \\sum_{k<i} w_{kj}y_k) - y_i^2 w_{ij}] $$\n",
    "\n",
    "In a matrix form, it is represented as\n",
    "\n",
    "$$ \\Delta W = \\alpha(\\b{y}\\b{x}^T - LT[\\b{y}\\b{y}^T]W) $$\n",
    "\n",
    "where $LT[\\ ]$ takes the lower triangle (including the diagonal) of a matrix.\n",
    "\n",
    "It has been shown that the rows of matrix $W$ converges to the $M$ eigenvectors with the largest eigen values of the covariance matrix $E[\\b{x}\\b{x}^T ]$"
   ]
  },
  {
   "cell_type": "code",
   "execution_count": null,
   "metadata": {},
   "outputs": [],
   "source": [
    "def gha(X, W, alpha=0.01):\n",
    "    \"\"\"Generalized Hebbian Alogrithm by Sanger (1989)\"\"\"\n",
    "    N, D = X.shape\n",
    "    for n in range(N):\n",
    "        y = W@X[n,:]\n",
    "        W += alpha*(np.outer(y, X[n,:]) - np.tril(np.outer(y,y))@W)\n",
    "    return W"
   ]
  },
  {
   "cell_type": "code",
   "execution_count": null,
   "metadata": {},
   "outputs": [],
   "source": [
    "# Iris example\n",
    "M = 2\n",
    "W = np.random.randn(M*D).reshape(M,D)\n",
    "for k in range(10):\n",
    "    W = gha(X, W, alpha=0.01)\n",
    "    print(W)"
   ]
  },
  {
   "cell_type": "code",
   "execution_count": null,
   "metadata": {},
   "outputs": [],
   "source": [
    "W/np.linalg.norm(W, axis=1, keepdims=True)"
   ]
  },
  {
   "cell_type": "code",
   "execution_count": null,
   "metadata": {},
   "outputs": [],
   "source": [
    "# Projection of data to the PC space\n",
    "Z = X@W.T\n",
    "# First two PC\n",
    "plt.scatter(Z[:,0], Z[:,1], c=T);"
   ]
  },
  {
   "cell_type": "code",
   "execution_count": null,
   "metadata": {},
   "outputs": [],
   "source": []
  },
  {
   "cell_type": "markdown",
   "metadata": {},
   "source": [
    "## Infomax principle\n",
    "The *infomax* principle is to find a mapping from input $\\b{x}$ to the output $\\b{y}$ so that the mutual information\n",
    "\n",
    "$$ I(\\b{y};\\b{x}) = H(\\b{y}) – H(\\b{y}|\\b{x}) $$\n",
    "\n",
    "is maximized.\n",
    "\n",
    "PCA is an example of infomax by a linear transformation \n",
    "\n",
    "$$\\b{y}=V\\b{x} $$ \n",
    "\n",
    "while keeping the norm of the row vectors of matrix $V$ to be one.\n",
    "\n",
    "For a deterministic mapping or a mapping with homogenetous additive noise \n",
    "\n",
    "$$ \\b{y}=f(\\b{x})+\\b{\\epsilon}, $$\n",
    "\n",
    "$H(\\b{y}|\\b{x})$ is constant, so that\n",
    "* maximization of information transfer $I(\\b{y};\\b{x})$\n",
    "\n",
    "is equivalent to  \n",
    "* maximization of output entropy $H(\\b{y})$.\n",
    "\n",
    "Note that $H(\\b{y})\\le\\sum_i H(y_i)$\n",
    "and the equality is achieved when the output components are independent: $p(\\b{y}) = \\prod_i p(y_i).$"
   ]
  },
  {
   "cell_type": "markdown",
   "metadata": {},
   "source": [
    "##  Independent component analysis (ICA)\n",
    "We can listen to a particular speaker's voice or a sound of an instrument among mixed sound.\n",
    "This is called *cocktail party effect* or *blind separation*.\n",
    "\n",
    "For a $D$ independent signal sources $\\b{s}=(s_1,...,s_D)^T$, we consider mixture signal\n",
    "\n",
    "$$ x_j = \\sum_{i=1}^D a_{ji} s_i, $$\n",
    "\n",
    "or in vector form\n",
    "\n",
    "$$ \\b{x} = A \\b{s}. $$\n",
    "\n",
    "*Independent component analysis (ICA)* tries to recover the original signals by\n",
    "\n",
    "$$ \\b{y} = W\\b{x} $$\n",
    "\n",
    "where components of $\\b{y}=(y_1,...,y_D)$ are independent, i.e.,\n",
    "\n",
    "$$ p(\\b{y}) = \\prod_{i=1}^D p(y_i), $$\n",
    "\n",
    "When the amplitude of $y_i$ is bounded, \n",
    "the output entropy $H(\\b{y})\\le\\sum_i H(y_i)$ is maximized when $y_i$ are independent."
   ]
  },
  {
   "cell_type": "markdown",
   "metadata": {},
   "source": [
    "### ICA by Infomax\n",
    "If the signal distribution $p(s_i)$ is *supragaussian*, having a sharp peak and long tails, ICA is achieved by a network with saturating output function, such as \n",
    "\n",
    "$$ \\b{u} = W \\b{x} $$\n",
    "\n",
    "$$ y_i = \\tanh(u_i). $$\n",
    "\n",
    "where $\\tanh(u)=\\frac{e^u-e^{-u}}{e^u+e^{-u}}$ is a sigmoid function within $(-1,1)$.\n",
    "\n",
    "In this case, the derivative of the output entropy is given by (Bell & Sejnowski 1995)\n",
    "\n",
    "$$ \\p{H(\\b{y})}{W} = {W^T}^{-1} + \\b{y}\\b{x}^T. $$\n",
    "\n",
    "The entropy is maximized by the *natural gradient* method (Amari 1998),\n",
    "\n",
    "$$ \\Delta W = \\alpha \\p{H(\\b{y})}{W} W^TW $$\n",
    "\n",
    "$$ = \\alpha({W^T}^{-1} - \\b{y}\\b{x}^T) W^TW $$\n",
    "\n",
    "$$ = \\alpha(W-\\b{y}\\b{u}^TW). $$"
   ]
  },
  {
   "cell_type": "code",
   "execution_count": null,
   "metadata": {},
   "outputs": [],
   "source": [
    "def ica(X, W=None, alpha=0.01, online=True):\n",
    "    \"\"\"ICA by max entropy with tanh()\"\"\"\n",
    "    N, D = X.shape\n",
    "    if W is None:\n",
    "        W = np.eye(D)  # initial guess\n",
    "    if online:\n",
    "        for n in range(N):\n",
    "            u = W@X[n,:]  \n",
    "            y = np.tanh(u)\n",
    "            W += alpha*(W - np.outer(y,u@W))\n",
    "    else:  # batch update\n",
    "        U = X@W.T\n",
    "        Y = np.tanh(U)\n",
    "        W += alpha*(W - Y.T@U@W/N)\n",
    "    return W"
   ]
  },
  {
   "cell_type": "code",
   "execution_count": null,
   "metadata": {},
   "outputs": [],
   "source": [
    "# Make mixed signals of two decaying tones\n",
    "D = 2  # channels\n",
    "N = 2000  # signal length\n",
    "# Source signal\n",
    "S = np.zeros((N, D))\n",
    "for i in range(D):\n",
    "    T = 200  # tone length\n",
    "    M = 10  # number of tones\n",
    "    t = np.arange(T)\n",
    "    s = np.exp(-t/50)*np.sin(0.5*(2+i)*t)  # single tone\n",
    "    ts = np.random.randint(0, N-T, M)  # start timing\n",
    "    for m in range(M):\n",
    "        S[ts[m]:ts[m]+T,i] += s  # add shifted tone\n",
    "plt.subplot(2, 1, 1)\n",
    "plt.plot(S)\n",
    "plt.ylabel(\"S\");\n",
    "# Mixed signal\n",
    "A = np.random.random((D,D))   # random matrix\n",
    "print(A)\n",
    "X = S@A.T\n",
    "plt.subplot(2, 1, 2)\n",
    "plt.plot(X)\n",
    "plt.ylabel(\"X\");"
   ]
  },
  {
   "cell_type": "code",
   "execution_count": null,
   "metadata": {},
   "outputs": [],
   "source": [
    "# Applyy ICA to the mixture\n",
    "W = np.eye(D)\n",
    "for k in range(10):\n",
    "    W = ica(X, W, alpha=0.001)\n",
    "    print(W@A)\n",
    "U = X@W.T\n",
    "Y = np.tanh(U)"
   ]
  },
  {
   "cell_type": "code",
   "execution_count": null,
   "metadata": {},
   "outputs": [],
   "source": [
    "# plot the original and separated signals\n",
    "plt.subplot(2, 1, 1)\n",
    "plt.plot(S)\n",
    "plt.ylabel(\"S\")\n",
    "plt.subplot(2, 1, 2)\n",
    "plt.plot(U)\n",
    "plt.ylabel(\"U\");"
   ]
  },
  {
   "cell_type": "code",
   "execution_count": null,
   "metadata": {},
   "outputs": [],
   "source": [
    "# plot t2D signal distributions\n",
    "plt.subplot(1, 4, 1)\n",
    "plt.plot(S[:,0], S[:,1], '.')\n",
    "plt.axis('square')\n",
    "plt.title(\"S\")\n",
    "plt.subplot(1, 4, 2)\n",
    "plt.plot(X[:,0], X[:,1], '.')\n",
    "plt.axis('square')\n",
    "plt.title(\"X\")\n",
    "plt.subplot(1, 4, 3)\n",
    "plt.plot(U[:,0], U[:,1], '.')\n",
    "plt.axis('square')\n",
    "plt.title(\"U\")\n",
    "plt.subplot(1, 4, 4)\n",
    "plt.plot(Y[:,0], Y[:,1], '.')\n",
    "plt.axis('square')\n",
    "plt.title(\"Y\");"
   ]
  },
  {
   "cell_type": "code",
   "execution_count": null,
   "metadata": {},
   "outputs": [],
   "source": [
    "# see how the mixing and separation weights are aligned to mixed data\n",
    "plt.plot(X[:,0], X[:,1], '.')\n",
    "plt.axis('square')\n",
    "plt.title(\"X\")\n",
    "# estimated mixing vectors\n",
    "a = np.linalg.inv(W)\n",
    "a = a/np.max(abs(a))\n",
    "plt.plot([0, a[0,0]], [0, a[0,1]])\n",
    "plt.plot([0, a[1,0]], [0, a[1,1]])\n",
    "# separating vectors\n",
    "w = W/np.max(W)\n",
    "plt.plot([0,w[0,0]], [0,w[0,1]])\n",
    "plt.plot([0,w[1,0]], [0,w[1,1]]);"
   ]
  },
  {
   "cell_type": "code",
   "execution_count": null,
   "metadata": {},
   "outputs": [],
   "source": []
  },
  {
   "cell_type": "markdown",
   "metadata": {},
   "source": [
    "## Playing sound\n",
    "\n",
    "Do you want to hear the mixed and separated sounds?\n",
    "\n",
    "You can use IPython.display library to play sound.  \n",
    "https://ipython.readthedocs.io/en/stable/api/generated/IPython.display.html"
   ]
  },
  {
   "cell_type": "code",
   "execution_count": null,
   "metadata": {},
   "outputs": [],
   "source": [
    "import IPython.display as ipd"
   ]
  },
  {
   "cell_type": "code",
   "execution_count": null,
   "metadata": {},
   "outputs": [],
   "source": [
    "# Source sounds\n",
    "for i in range(D):\n",
    "    ipd.display(ipd.Audio(S[:,i], rate=4000))  # 4kHz sampling"
   ]
  },
  {
   "cell_type": "code",
   "execution_count": null,
   "metadata": {},
   "outputs": [],
   "source": [
    "# Mixed sounds\n",
    "for i in range(D):\n",
    "    ipd.display(ipd.Audio(X[:,i], rate=4000))"
   ]
  },
  {
   "cell_type": "code",
   "execution_count": null,
   "metadata": {},
   "outputs": [],
   "source": [
    "# Separated sounds\n",
    "for i in range(D):\n",
    "    ipd.display(ipd.Audio(U[:,i], rate=4000))"
   ]
  },
  {
   "cell_type": "code",
   "execution_count": null,
   "metadata": {},
   "outputs": [],
   "source": []
  },
  {
   "cell_type": "markdown",
   "metadata": {},
   "source": [
    "## Receptive fields of visual cortex neurons\n",
    "\n",
    "* Cat visual cortex (Hubel & Wiesel)\n",
    "\n",
    "* Self-organization (von der Malsburgh)\n",
    "\n",
    "* by Informax (Linsker)\n",
    "* by SOM (Obermayer et al.)\n",
    "* by PCA (Sanger et al.)\n",
    "* by ICA (Bell & Sejnowski)"
   ]
  },
  {
   "cell_type": "markdown",
   "metadata": {},
   "source": [
    "### Replicating receptive field tuning\n",
    "\n",
    "Sanger (1989) trained an *autoencoder* network with patches from natural images as inputs. \n",
    "The PCs learned by *generalized Hebbian learning* in the hiddenlayers had input weights similar to the receptive field propertis of visual cortical neurons.\n",
    "\n",
    "% ![Sanger89_rf](figures/Sanger89_rf.jpg)\n",
    "% Figure from Sanger (1989)"
   ]
  },
  {
   "cell_type": "code",
   "execution_count": null,
   "metadata": {},
   "outputs": [],
   "source": []
  },
  {
   "cell_type": "markdown",
   "metadata": {},
   "source": [
    "## References\n",
    "\n",
    "* Bishop CM (2006) Pattern Recognition and Machine Learning. Springer. https://www.microsoft.com/en-us/research/people/cmbishop/prml-book/  \n",
    "    * Chapter 9: Mixture models and EM  \n",
    "    * Chapter 12: Continuous latent variables\n",
    "\n",
    "* Murphy K (2012) Machine learning: A probabilistic perspective. MIT press. https://probml.github.io/pml-book/\n",
    "    * Chapter 25.2: Dirichlet process mixture models \n",
    "\n",
    "### Self Organization\n",
    "\n",
    "* Hubel DH, Wiesel TN (1959). Receptive fields of single neurones in the cat's striate cortex. Journal of Physiology, 148, 574-91. http://doi.org/10.1113/jphysiol.1959.sp006308\n",
    "* Hubel DH, Wiesel TN (1962). Receptive fields, binocular interaction and functional architecture in the cat's visual cortex. Journal of Physiology, 160, 106-154. http://doi.org/10.1113/jphysiol.1962.sp006837\n",
    "\n",
    "* von der Malsburg C (1973). Self-organization of orientation sensitive cells in the striate cortex. Kybernetik, 14, 85-100. https://doi.org/10.1007/BF00288907\n",
    "* Kohonen T (1982). Self-Organized Formation of Topologically Correct Feature Maps. Biol Cybern, 43, 59-69. https://doi.org/10.1007/BF00337288\n",
    "\n",
    "* Olshausen BA, Field DJ (1996). Emergence of simple-cell receptive field properties by learning a sparse code for natural images. Nature, 381, 607-9. https://doi.org/10.1038/381607a0\n",
    "* Rao RP, Ballard DH (1999). Predictive coding in the visual cortex: a functional interpretation of some extra-classical receptive-field effects. Nat Neurosci, 2, 79-87. https://doi.org/10.1038/4580\n",
    "\n",
    "### PCA\n",
    "\n",
    "* Sanger TD (1989). Optimal unsupervised learning in a single-layer linear feedforward neural network. Neural Networks, 2, 459-473. http://doi.org/10.1016/0893-6080(89)90044-0\n",
    "* Turk M, Pentland A (1991). Eigenfaces for recognition. Journal of Cognitive Neurosciece, 3, 71-86. http://doi.org/10.1162/jocn.1991.3.1.71\n",
    "\n",
    "### Infomax and ICA\n",
    "\n",
    "* Linsker R (1986). From basic network principles to neural architecture. Proceedings of the National Academy of Sciences, USA, 83, 7508-7512, 8390-8394, 8779-8783.  http://doi.org/10.1073/pnas.83.19.7508\n",
    "* Bell AJ, Sejnowski TJ (1995). An information-maxization approach to blind separation and blind deconvolution. Neural Comput, 7, 1129-1159. http://doi.org/10.1162/neco.1995.7.6.1129 \n",
    "* Bell AJ, Sejnowski TJ (1997). The “independent components” of natural scenes are edge filters. Vision Research, 37, 3327-3338. http://doi.org/10.1016/s0042-6989(97)00121-1\n",
    "* Amari S (1998). Natural gradient works efficiently in learning. Neural Comput, 10, 251-276. http://doi.org/10.1162/089976698300017746 "
   ]
  },
  {
   "cell_type": "code",
   "execution_count": null,
   "metadata": {},
   "outputs": [],
   "source": []
  }
 ],
 "metadata": {
  "kernelspec": {
   "display_name": "Python 3 (ipykernel)",
   "language": "python",
   "name": "python3"
  },
  "language_info": {
   "codemirror_mode": {
    "name": "ipython",
    "version": 3
   },
   "file_extension": ".py",
   "mimetype": "text/x-python",
   "name": "python",
   "nbconvert_exporter": "python",
   "pygments_lexer": "ipython3",
   "version": "3.13.2"
  }
 },
 "nbformat": 4,
 "nbformat_minor": 4
}
