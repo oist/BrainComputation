{
 "cells": [
  {
   "cell_type": "markdown",
   "id": "61108dfa",
   "metadata": {},
   "source": [
    "# Unsupervised Learning: Exercise"
   ]
  },
  {
   "cell_type": "code",
   "execution_count": null,
   "id": "96fb5194",
   "metadata": {},
   "outputs": [],
   "source": [
    "import numpy as np\n",
    "import matplotlib.pyplot as plt\n",
    "%matplotlib inline"
   ]
  },
  {
   "cell_type": "markdown",
   "id": "65142efc",
   "metadata": {},
   "source": [
    "**1.** Apply $K$-means and Mixtures of Gaussians to a dataset which may have some cluster structure."
   ]
  },
  {
   "cell_type": "code",
   "execution_count": null,
   "id": "9994f828",
   "metadata": {},
   "outputs": [],
   "source": []
  },
  {
   "cell_type": "markdown",
   "id": "147bd94f",
   "metadata": {},
   "source": [
    "**2.** Apply PCA and SVD to a high-dimensional dataset of your interest and compare the results."
   ]
  },
  {
   "cell_type": "code",
   "execution_count": null,
   "id": "2bb22342",
   "metadata": {},
   "outputs": [],
   "source": []
  },
  {
   "cell_type": "markdown",
   "id": "3ec3c02c",
   "metadata": {},
   "source": [
    "**3.** Apply ICA to a mixted signal of your interest and whether it can separate the original signals."
   ]
  },
  {
   "cell_type": "code",
   "execution_count": null,
   "id": "4116d30b",
   "metadata": {},
   "outputs": [],
   "source": []
  }
 ],
 "metadata": {
  "kernelspec": {
   "display_name": "Python 3 (ipykernel)",
   "language": "python",
   "name": "python3"
  },
  "language_info": {
   "codemirror_mode": {
    "name": "ipython",
    "version": 3
   },
   "file_extension": ".py",
   "mimetype": "text/x-python",
   "name": "python",
   "nbconvert_exporter": "python",
   "pygments_lexer": "ipython3",
   "version": "3.9.16"
  }
 },
 "nbformat": 4,
 "nbformat_minor": 5
}
