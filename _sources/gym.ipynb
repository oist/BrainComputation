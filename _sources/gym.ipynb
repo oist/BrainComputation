{
 "cells": [
  {
   "cell_type": "code",
   "execution_count": 1,
   "id": "be3daf28-f62b-4dd1-96f1-a3f800ed604e",
   "metadata": {},
   "outputs": [],
   "source": [
    "import gymnasium as gym"
   ]
  },
  {
   "cell_type": "code",
   "execution_count": 8,
   "id": "6acea1e3-30b3-4f2c-ae7b-630b201bb0fe",
   "metadata": {},
   "outputs": [
    {
     "name": "stdout",
     "output_type": "stream",
     "text": [
      "Discrete(2) Box([-4.8               -inf -0.41887903        -inf], [4.8               inf 0.41887903        inf], (4,), float32)\n",
      "[0.0424174  0.01154457 0.001967   0.03775137] {}\n",
      "0 0 [ 0.04264829 -0.18360554  0.00272203  0.33105427] 1.0 False False {}\n",
      "1 1 [0.03897618 0.01147757 0.00934312 0.03923097] 1.0 False False {}\n",
      "2 1 [ 0.03920573  0.2064643   0.01012774 -0.25048953] 1.0 False False {}\n",
      "3 1 [ 0.04333502  0.40144017  0.00511794 -0.53996086] 1.0 False False {}\n",
      "4 1 [ 0.05136382  0.5964898  -0.00568127 -0.8310268 ] 1.0 False False {}\n",
      "5 1 [ 0.06329362  0.7916889  -0.02230181 -1.125491  ] 1.0 False False {}\n",
      "6 0 [ 0.0791274   0.59686625 -0.04481163 -0.8398859 ] 1.0 False False {}\n",
      "7 0 [ 0.09106472  0.40238383 -0.06160935 -0.5616253 ] 1.0 False False {}\n",
      "8 0 [ 0.0991124   0.20817815 -0.07284185 -0.28897116] 1.0 False False {}\n",
      "9 0 [ 0.10327596  0.01416642 -0.07862128 -0.02012186] 1.0 False False {}\n"
     ]
    }
   ],
   "source": [
    "# Simple example\n",
    "env = gym.make(\"CartPole-v1\")\n",
    "print( env.action_space, env.observation_space)\n",
    "\n",
    "observation, info = env.reset()\n",
    "print( observation, info)\n",
    "\n",
    "for t in range(10):\n",
    "    action = env.action_space.sample()\n",
    "    observation, reward, terminated, truncated, info = env.step(action)\n",
    "    print( t, action, observation, reward, terminated, truncated, info)\n",
    "    if terminated or truncated:\n",
    "        observation, info = env.reset()\n",
    "\n",
    "env.close()"
   ]
  },
  {
   "cell_type": "code",
   "execution_count": null,
   "id": "97ba87f1-7c54-4821-b9d5-776011f8cc81",
   "metadata": {},
   "outputs": [],
   "source": []
  }
 ],
 "metadata": {
  "kernelspec": {
   "display_name": "Python 3 (ipykernel)",
   "language": "python",
   "name": "python3"
  },
  "language_info": {
   "codemirror_mode": {
    "name": "ipython",
    "version": 3
   },
   "file_extension": ".py",
   "mimetype": "text/x-python",
   "name": "python",
   "nbconvert_exporter": "python",
   "pygments_lexer": "ipython3",
   "version": "3.12.10"
  }
 },
 "nbformat": 4,
 "nbformat_minor": 5
}
